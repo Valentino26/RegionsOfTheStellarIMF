{
 "cells": [
  {
   "cell_type": "markdown",
   "id": "fc631c67",
   "metadata": {},
   "source": [
    "# Regions of the stellar initial mass function"
   ]
  },
  {
   "cell_type": "markdown",
   "id": "6c7245c6",
   "metadata": {},
   "source": [
    "$$\\frac{dN}{d \\log{m}} \\propto \\left(\\frac{m}{M_{\\odot}}\\right) ^{\\alpha + 1}$$"
   ]
  },
  {
   "cell_type": "code",
   "execution_count": null,
   "id": "796fef20",
   "metadata": {},
   "outputs": [],
   "source": []
  }
 ],
 "metadata": {
  "kernelspec": {
   "display_name": "Python 3",
   "language": "python",
   "name": "python3"
  },
  "language_info": {
   "codemirror_mode": {
    "name": "ipython",
    "version": 3
   },
   "file_extension": ".py",
   "mimetype": "text/x-python",
   "name": "python",
   "nbconvert_exporter": "python",
   "pygments_lexer": "ipython3",
   "version": "3.12.2"
  }
 },
 "nbformat": 4,
 "nbformat_minor": 5
}
